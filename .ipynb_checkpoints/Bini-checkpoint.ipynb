{
 "cells": [
  {
   "cell_type": "markdown",
   "metadata": {},
   "source": [
    "# Bini Fast Matrix Multiplication O(2.7799)"
   ]
  },
  {
   "cell_type": "code",
   "execution_count": 2,
   "metadata": {},
   "outputs": [],
   "source": [
    "import numpy as np"
   ]
  },
  {
   "cell_type": "code",
   "execution_count": 3,
   "metadata": {},
   "outputs": [],
   "source": [
    "from numpy import linalg as la"
   ]
  },
  {
   "cell_type": "code",
   "execution_count": 4,
   "metadata": {},
   "outputs": [],
   "source": [
    "np.set_printoptions(precision=2)"
   ]
  },
  {
   "cell_type": "code",
   "execution_count": 5,
   "metadata": {},
   "outputs": [],
   "source": [
    "#without dynamic peeling:\n",
    "# row of A need to be divisible by 3 (power of is preferable)\n",
    "# columns of A need do be divisble by 2\n",
    "\n",
    "# rows and cols of B need to be divisible by two"
   ]
  },
  {
   "cell_type": "code",
   "execution_count": 18,
   "metadata": {},
   "outputs": [],
   "source": [
    "A = np.random.rand(243, 256)\n",
    "B = np.random.rand(256, 256)"
   ]
  },
  {
   "cell_type": "code",
   "execution_count": 19,
   "metadata": {},
   "outputs": [],
   "source": [
    "def bini(A, B, steps, e=1):\n",
    "    \n",
    "    #Check Dimensions\n",
    "    (m, n) = A.shape\n",
    "    (nn, p) = B.shape\n",
    "    if n != nn: raise ValueError(\"incompatible dimensions\")\n",
    "    \n",
    "    #pre-allocate output matrix\n",
    "    C = np.zeros((m,p))\n",
    "    \n",
    "    #Base case\n",
    "    if steps == 0 or m == 1 or n == 1 or p == 1:\n",
    "        C = np.dot(A,B)\n",
    "        return C\n",
    "    \n",
    "    #Dynamic peling\n",
    "    #**************\n",
    "    # right now only input matricies that fit the power of 3 and 2 dimension rules\n",
    " \n",
    "    \"\"\"\n",
    "    This is the notation I use from Bini's 1980 paper\n",
    "\n",
    "    |A1, A4|  |B1, B2|  =  |C1, C2|\n",
    "    |A2, A5|  |B3, B4|     |C3, C4|\n",
    "    |A3, A6|               |C5, C6|\n",
    "    \"\"\"\n",
    "\n",
    "    # split up the matricies once rows of A are divisible by 3\n",
    "    # and cols of A and rows and cols of are divisible by 2\n",
    "    m2 = int(m/3) #first third of the rows of A\n",
    "    m3 = m2*2     #second third of the rows of A\n",
    "    n2 = int(n/2) #half of the cols of A\n",
    "    \n",
    "    # Do I need to do this below for B? Could I only do just one because it should be\n",
    "    # square? and since its just the \n",
    "    p2 = int(p/2) #half of the cols of B\n",
    "    nn2 = int(nn/2) # half of the rows of B\n",
    "    \n",
    "    A1 = A[:m2, :n2]\n",
    "    A2 = A[m2:m3, :n2]\n",
    "    A3 = A[m3:, :n2]\n",
    "    A4 = A[:m2, n2:]\n",
    "    A5 = A[m2:m3, n2:]\n",
    "    A6 = A[m3:, n2:]\n",
    "    \n",
    "    #being really explicit with rows and cols of B but cold replace with just cols of \n",
    "    # A\n",
    "    B1 = B[:nn2, :p2]\n",
    "    B2 = B[:nn2, p2:]\n",
    "    B3 = B[nn2:, :p2]\n",
    "    B4 = B[nn2:, p2:]\n",
    "    \n",
    "    #bini(A, B, steps, e=0.1)\n",
    "    # conquer\n",
    "    M1 = bini(A1 + A5, e*B1 + B4, steps-1, e)\n",
    "    M2 = bini(A5, -B3-B4, steps-1, e)\n",
    "    M3 = bini(A1, B4, steps-1, e)\n",
    "    M4 = bini(e*A4+A5, -e*B1 + B3, steps-1, e)\n",
    "    M5 = bini(A1 + e*A4, e*B2 + B4, steps-1, e)\n",
    "    M6 = bini(A2 + A6, B1 + e*B4, steps-1, e)\n",
    "    M7 = bini(A2, -B1 - B2, steps-1, e)\n",
    "    M8 = bini(A6, B1, steps-1, e)\n",
    "    M9 = bini(A2 + e*A3, B2 - e*B4, steps-1, e)\n",
    "    M10 = bini(e*A3 + A6, B1 + e*B3, steps-1, e)\n",
    "    \n",
    "    # put C together\n",
    "    C[:m2, :n2] = (1/e)*(M1+M2-M3+M4) #C1\n",
    "    C[:m2, n2:] = (1/e)*(-M3+M5)      #C2\n",
    "    C[m2:m3, :n2] = M4+M6+M10         #C3\n",
    "    C[m2:m3, n2:] = M1+M5+M9          #C4\n",
    "    C[m3:, :n2] = (1/e)*(M8+M10)      #C5\n",
    "    C[m3:, n2:] = (1/e)*(M6+M7-M8+M9) #C6\n",
    "    \n",
    "    return C"
   ]
  },
  {
   "cell_type": "code",
   "execution_count": 20,
   "metadata": {},
   "outputs": [],
   "source": [
    "C = bini(A,B, 1)"
   ]
  },
  {
   "cell_type": "code",
   "execution_count": 21,
   "metadata": {},
   "outputs": [
    {
     "data": {
      "text/plain": [
       "0.7154607879986333"
      ]
     },
     "execution_count": 21,
     "metadata": {},
     "output_type": "execute_result"
    }
   ],
   "source": [
    "la.norm(C-A@B, 'fro')/la.norm(C)"
   ]
  },
  {
   "cell_type": "code",
   "execution_count": null,
   "metadata": {},
   "outputs": [],
   "source": []
  },
  {
   "cell_type": "code",
   "execution_count": null,
   "metadata": {},
   "outputs": [],
   "source": []
  },
  {
   "cell_type": "code",
   "execution_count": null,
   "metadata": {},
   "outputs": [],
   "source": []
  },
  {
   "cell_type": "code",
   "execution_count": null,
   "metadata": {},
   "outputs": [],
   "source": []
  },
  {
   "cell_type": "code",
   "execution_count": null,
   "metadata": {},
   "outputs": [],
   "source": []
  },
  {
   "cell_type": "code",
   "execution_count": null,
   "metadata": {},
   "outputs": [],
   "source": []
  }
 ],
 "metadata": {
  "kernelspec": {
   "display_name": "Python 3",
   "language": "python",
   "name": "python3"
  },
  "language_info": {
   "codemirror_mode": {
    "name": "ipython",
    "version": 3
   },
   "file_extension": ".py",
   "mimetype": "text/x-python",
   "name": "python",
   "nbconvert_exporter": "python",
   "pygments_lexer": "ipython3",
   "version": "3.6.4"
  }
 },
 "nbformat": 4,
 "nbformat_minor": 2
}
