{
 "cells": [
  {
   "cell_type": "code",
   "execution_count": 1,
   "metadata": {
    "slideshow": {
     "slide_type": "slide"
    }
   },
   "outputs": [],
   "source": [
    "import numpy as np\n",
    "import time"
   ]
  },
  {
   "cell_type": "code",
   "execution_count": 2,
   "metadata": {},
   "outputs": [],
   "source": [
    "from numpy import linalg as la"
   ]
  },
  {
   "cell_type": "code",
   "execution_count": 3,
   "metadata": {},
   "outputs": [],
   "source": [
    "np.set_printoptions(precision=2)"
   ]
  },
  {
   "cell_type": "code",
   "execution_count": 4,
   "metadata": {},
   "outputs": [],
   "source": [
    "A = np.random.rand(2000,2000)"
   ]
  },
  {
   "cell_type": "code",
   "execution_count": 5,
   "metadata": {},
   "outputs": [],
   "source": [
    "B = np.random.rand(2000,2000)"
   ]
  },
  {
   "cell_type": "code",
   "execution_count": 6,
   "metadata": {},
   "outputs": [],
   "source": [
    "def strass(A, B, steps):\n",
    "    \n",
    "    #Check Dimensions\n",
    "    (m,n) = A.shape\n",
    "    (nn, p) = B.shape\n",
    "    if n != nn: raise ValueError(\"incompatible dimensions\")\n",
    "    C = np.zeros((m,p))\n",
    "    \n",
    "    #Base case\n",
    "    if steps == 0 or m ==1 or n ==1 or p == 1:\n",
    "        C = np.dot(A,B)\n",
    "        return C\n",
    "    \n",
    "    #Dynamic peeling\n",
    "    if m % 2 == 1:\n",
    "        C[:m-1, :] = strass(A[:m-1,:],B, steps)\n",
    "        C[m-1,:] = A[m-1,:]@B\n",
    "        return C\n",
    "    if n % 2 == 1:\n",
    "        C = strass(A[:, :n-1], B[:n-1,:], steps)\n",
    "        C = C + np.outer(A[:,n-1],B[n-1,:])\n",
    "        return C\n",
    "    if p % 2 == 1:\n",
    "        C[:, :p-1] = strass(A, B[:,:p-1], steps)\n",
    "        C[:,p-1] = A@B[:,p-1]\n",
    "        return C\n",
    "    \n",
    "    # divide when m, n and p are all even\n",
    "    m2 = int(m/2)\n",
    "    n2 = int(n/2)\n",
    "    p2 = int(p/2)\n",
    "    A11 = A[:m2,:n2] \n",
    "    A12 = A[:m2,n2:]\n",
    "    A21 = A[m2:,:n2] \n",
    "    A22 = A[m2:,n2:]\n",
    "    B11 = B[:n2,:p2]   \n",
    "    B12 = B[:n2,p2:]\n",
    "    B21 = B[n2:,:p2] \n",
    "    B22 = B[n2:,p2:]\n",
    "    \n",
    "    # conquer\n",
    "    M1 = strass(A11, B12-B22   ,steps-1)\n",
    "    M2 = strass(A11+A12, B22   ,steps-1)\n",
    "    M3 = strass(A21+A22,B11    ,steps-1)\n",
    "    M4 = strass(A22    ,B21-B11,steps-1)\n",
    "    M5 = strass(A11+A22,B11+B22,steps-1)\n",
    "    M6 = strass(A12-A22,B21+B22,steps-1)\n",
    "    M7 = strass(A11-A21,B11+B12,steps-1)\n",
    "    \n",
    "    # conquer    \n",
    "    C[:m2,:p2] = M5+M4-M2+M6 \n",
    "    C[:m2,p2:] = M1+M2 \n",
    "    C[m2:,:p2] = M3+M4\n",
    "    C[m2:,p2:] = M1+M5-M3-M7\n",
    "    \n",
    "    return C"
   ]
  },
  {
   "cell_type": "code",
   "execution_count": 8,
   "metadata": {},
   "outputs": [
    {
     "name": "stdout",
     "output_type": "stream",
     "text": [
      "0.24393081665039062\n"
     ]
    }
   ],
   "source": [
    "start = time.time()\n",
    "C = strass(A,B, 2)\n",
    "end = time.time()\n",
    "print(end - start)"
   ]
  },
  {
   "cell_type": "code",
   "execution_count": 8,
   "metadata": {},
   "outputs": [
    {
     "name": "stdout",
     "output_type": "stream",
     "text": [
      "0.022013425827026367\n"
     ]
    }
   ],
   "source": [
    "start_norm = time.time()\n",
    "Cnorm = A*B\n",
    "end_norm = time.time()\n",
    "print(end_norm - start_norm)"
   ]
  },
  {
   "cell_type": "markdown",
   "metadata": {},
   "source": [
    "In the cell below we can see that the accuracy of the algorithm for the given matrix is around machine epsilon"
   ]
  },
  {
   "cell_type": "code",
   "execution_count": 9,
   "metadata": {},
   "outputs": [
    {
     "data": {
      "text/plain": [
       "7.131791135719216e-16"
      ]
     },
     "execution_count": 9,
     "metadata": {},
     "output_type": "execute_result"
    }
   ],
   "source": [
    "la.norm(C-A@B, 'fro')/la.norm(C)"
   ]
  },
  {
   "cell_type": "code",
   "execution_count": 10,
   "metadata": {},
   "outputs": [],
   "source": [
    "# Accuracy and Stability of Numerical Algorithms second edition"
   ]
  }
 ],
 "metadata": {
  "kernelspec": {
   "display_name": "Python 3",
   "language": "python",
   "name": "python3"
  },
  "language_info": {
   "codemirror_mode": {
    "name": "ipython",
    "version": 3
   },
   "file_extension": ".py",
   "mimetype": "text/x-python",
   "name": "python",
   "nbconvert_exporter": "python",
   "pygments_lexer": "ipython3",
   "version": "3.6.7"
  }
 },
 "nbformat": 4,
 "nbformat_minor": 2
}
