{
 "cells": [
  {
   "cell_type": "markdown",
   "metadata": {},
   "source": [
    "# Bini Fast Matrix Multiplication O(2.7799)"
   ]
  },
  {
   "cell_type": "code",
   "execution_count": 1,
   "metadata": {},
   "outputs": [],
   "source": [
    "import numpy as np"
   ]
  },
  {
   "cell_type": "code",
   "execution_count": 2,
   "metadata": {},
   "outputs": [],
   "source": [
    "from numpy import linalg as la"
   ]
  },
  {
   "cell_type": "code",
   "execution_count": 3,
   "metadata": {},
   "outputs": [],
   "source": [
    "np.set_printoptions(precision=2)"
   ]
  },
  {
   "cell_type": "code",
   "execution_count": 4,
   "metadata": {},
   "outputs": [],
   "source": [
    "#without dynamic peeling:\n",
    "# row of A need to be divisible by 3 (power of is preferable)\n",
    "# columns of A need do be divisble by 2\n",
    "\n",
    "# rows and cols of B need to be divisible by two"
   ]
  },
  {
   "cell_type": "code",
   "execution_count": 102,
   "metadata": {},
   "outputs": [],
   "source": [
    "def calculate_e(steps):\n",
    "    e = (2**-52)**(1/(1+steps))\n",
    "    return e"
   ]
  },
  {
   "cell_type": "code",
   "execution_count": 92,
   "metadata": {},
   "outputs": [],
   "source": [
    "def bini(A, B, steps, e=1e-8):\n",
    "    \n",
    "    #Check Dimensions\n",
    "    (m, n) = A.shape\n",
    "    #rn assuming that m is bigger than n, nn and p\n",
    "    (nn, p) = B.shape\n",
    "    if n != nn: raise ValueError(\"incompatible dimensions\")\n",
    "    \n",
    "    #pre-allocate output matrix\n",
    "    C = np.zeros((m,p))\n",
    "    \n",
    "    \"\"\"\n",
    "    This is the notation I use from Bini's 1980 paper\n",
    "\n",
    "    |A1, A4|  |B1, B2|  =  |C1, C2|\n",
    "    |A2, A5|  |B3, B4|     |C3, C4|\n",
    "    |A3, A6|               |C5, C6|\n",
    "    \"\"\"\n",
    "    \n",
    "    #Base case\n",
    "    if steps == 0 or m == 1 or n == 1 or p == 1:\n",
    "        C = np.dot(A,B)\n",
    "        return C\n",
    "    \n",
    "    #Static peeling\n",
    "    if (3**steps > m) or (2**steps > n) or (2**steps > p):\n",
    "        raise ValueError(\"Too many steps/ too small matricies for static peeling\")\n",
    "    \n",
    "    if (m % 3**steps) != 0:\n",
    "        extra_rows = m % 3**steps\n",
    "        \n",
    "        C[:m-extra_rows, :] = bini(A[:m-extra_rows, :], B, steps, e)\n",
    "        C[m-extra_rows:, :] = A[m-extra_rows:, :]@B\n",
    "        return C\n",
    "    if (n % 2**steps) != 0:\n",
    "        extra_cols = n % (2**steps)\n",
    "        \n",
    "        C = bini(A[:, :n-extra_cols], B[:n-extra_cols,:], steps, e)\n",
    "        C = C + A[:, n-extra_cols:]@B[n-extra_cols:, :]\n",
    "        return C\n",
    "    if (p % 2**steps) != 0:\n",
    "        multiP = p//(2**steps) #multipler to find how large to make the bini matrix\n",
    "        extra_cols = p % (2**steps)\n",
    "        \n",
    "        C[:, :p-extra_cols] = bini(A, B[:, :p-extra_cols], steps, e)\n",
    "        C[:, p-extra_cols:] = A@B[:, p-extra_cols:]\n",
    "        return C\n",
    "    \n",
    "    \n",
    "    \"\"\"\n",
    "    Dynamic peeling causes issues because the ideal epsilon value is determined by \n",
    "    the shape of the matrix and in dynamic peeling, the shape of the matrix\n",
    "    is changed every recursive step which results in dimensions with a different \n",
    "    ideal epsilon value\n",
    "    \n",
    "    #Dynamic peeling\n",
    "    if m % 3 == 1:\n",
    "        C[:m-1, :] = bini(A[:m-1,:],B, steps, e)\n",
    "        C[m-1,:] = A[m-1,:]@B\n",
    "        return C\n",
    "    if m % 3 == 2:\n",
    "        C[:m-2, :] = bini(A[:m-2,:],B, steps, e)\n",
    "        C[m-2:,:] = A[m-2:,:]@B\n",
    "        return C\n",
    "    if n % 2 == 1:\n",
    "        C = bini(A[:, :n-1], B[:n-1,:], steps, e)\n",
    "        C = C + np.outer(A[:,n-1],B[n-1,:])\n",
    "        return C\n",
    "    if p % 2 == 1:\n",
    "        C[:, :p-1] = bini(A, B[:,:p-1], steps, e)\n",
    "        C[:,p-1] = A@B[:,p-1]\n",
    "        return C\n",
    "    \"\"\"\n",
    " \n",
    "\n",
    "    # split up the matricies once rows of A are divisible by 3\n",
    "    # and cols of A and rows and cols of are divisible by 2\n",
    "    m2 = int(m/3) #first third of the rows of A\n",
    "    m3 = m2*2     #second third of the rows of A\n",
    "    n2 = int(n/2) #half of the cols of A\n",
    "    p2 = int(p/2) #half of the cols of B\n",
    "    #nn2 = int(nn/2) # half of the rows of B\n",
    "    \n",
    "    A1 = A[:m2, :n2]\n",
    "    A2 = A[m2:m3, :n2]\n",
    "    A3 = A[m3:, :n2]\n",
    "    A4 = A[:m2, n2:]\n",
    "    A5 = A[m2:m3, n2:]\n",
    "    A6 = A[m3:, n2:]\n",
    "    \n",
    "    B1 = B[:n2, :p2]\n",
    "    B2 = B[:n2, p2:]\n",
    "    B3 = B[n2:, :p2]\n",
    "    B4 = B[n2:, p2:]\n",
    "    \n",
    "    #bini(A, B, steps, e=0.1)\n",
    "    # conquer\n",
    "    M1 = bini(A1 + A5, e*B1 + B4, steps-1, e) \n",
    "    M2 = bini(A5, -B3-B4, steps-1, e)\n",
    "    M3 = bini(A1, B4, steps-1, e)\n",
    "    M4 = bini(e*A4+A5, -e*B1 + B3, steps-1, e)\n",
    "    M5 = bini(A1 + e*A4, e*B2 + B4, steps-1, e)\n",
    "    M6 = bini(A2 + A6, B1 + e*B4, steps-1, e)\n",
    "    M7 = bini(A2, -B1 - B2, steps-1, e) #\n",
    "    M8 = bini(A6, B1, steps-1, e)\n",
    "    M9 = bini(A2 + e*A3, B2 - e*B4, steps-1, e)\n",
    "    M10 = bini(e*A3 + A6, B1 + e*B3, steps-1, e)\n",
    "    \n",
    "    # put C together\n",
    "    C[:m2, :p2] = (1/e)*(M1+M2-M3+M4) #C1\n",
    "    C[:m2, p2:] = (1/e)*(-M3+M5)      #C2\n",
    "    C[m2:m3, :p2] = M4+M6-M10         #C3 error from bini paper -M10 from +M10\n",
    "    C[m2:m3, p2:] = M1-M5+M9          #C4 error from bini paper -M5 from +M5\n",
    "    C[m3:, :p2] = (1/e)*(-M8+M10)     #C5\n",
    "    C[m3:, p2:] = (1/e)*(M6+M7-M8+M9) #C6\n",
    "    \n",
    "    return C"
   ]
  },
  {
   "cell_type": "code",
   "execution_count": 93,
   "metadata": {},
   "outputs": [],
   "source": [
    "A = np.random.rand(243, 256)\n",
    "B = np.random.rand(256, 256)"
   ]
  },
  {
   "cell_type": "code",
   "execution_count": 96,
   "metadata": {},
   "outputs": [],
   "source": [
    "steps = 1"
   ]
  },
  {
   "cell_type": "code",
   "execution_count": 103,
   "metadata": {},
   "outputs": [
    {
     "data": {
      "text/plain": [
       "1.4901161193847656e-08"
      ]
     },
     "execution_count": 103,
     "metadata": {},
     "output_type": "execute_result"
    }
   ],
   "source": [
    "calculate_e(steps)"
   ]
  },
  {
   "cell_type": "code",
   "execution_count": 104,
   "metadata": {},
   "outputs": [],
   "source": [
    "C = bini(A,B, steps, calculate_e(steps))"
   ]
  },
  {
   "cell_type": "code",
   "execution_count": 105,
   "metadata": {},
   "outputs": [
    {
     "data": {
      "text/plain": [
       "2.0653832898209107e-08"
      ]
     },
     "execution_count": 105,
     "metadata": {},
     "output_type": "execute_result"
    }
   ],
   "source": [
    "la.norm(C-A@B, 'fro')/la.norm(C)"
   ]
  },
  {
   "cell_type": "code",
   "execution_count": 85,
   "metadata": {},
   "outputs": [
    {
     "name": "stdout",
     "output_type": "stream",
     "text": [
      "e: 0.1 Error: 0.07280892626911609\n",
      "e: 0.01 Error: 0.007155594969398102\n",
      "e: 0.001 Error: 0.0007154526021214912\n",
      "e: 0.0001 Error: 0.0001557402385775404\n",
      "e: 1e-05 Error: 0.13683466979819325\n",
      "e: 1e-06 Error: 0.9999671136808329\n",
      "e: 1e-07 Error: 0.9999999985713249\n",
      "e: 1e-08 Error: 0.9999999999856622\n",
      "e: 1e-09 Error: 0.9999999999999855\n",
      "e: 1e-10 Error: 0.9999999999999998\n",
      "e: 1e-11 Error: 1.0\n",
      "e: 1e-12 Error: 1.0\n",
      "e: 1e-13 Error: 1.0\n",
      "e: 1e-14 Error: 1.0\n",
      "e: 1e-15 Error: 1.0\n",
      "e: 1e-16 Error: 1.0\n",
      "e: 1e-17 Error: 1.0\n",
      "e: 1e-18 Error: 1.0\n",
      "e: 1e-19 Error: 1.0\n",
      "e: 1e-20 Error: 1.0\n"
     ]
    }
   ],
   "source": [
    "for i in range(20):\n",
    "    a = -1*(i+1)\n",
    "    C = bini(A,B, 3, e=10**a)\n",
    "    error = la.norm(C-A@B, 'fro')/la.norm(C) \n",
    "    print(\"e:\", 10**a, \"Error:\", error)"
   ]
  },
  {
   "cell_type": "code",
   "execution_count": 81,
   "metadata": {},
   "outputs": [
    {
     "data": {
      "text/plain": [
       "1.0"
      ]
     },
     "execution_count": 81,
     "metadata": {},
     "output_type": "execute_result"
    }
   ],
   "source": []
  },
  {
   "cell_type": "code",
   "execution_count": 46,
   "metadata": {},
   "outputs": [
    {
     "data": {
      "text/plain": [
       "True"
      ]
     },
     "execution_count": 46,
     "metadata": {},
     "output_type": "execute_result"
    }
   ],
   "source": [
    " 3**-3 == 1.0/3**3"
   ]
  },
  {
   "cell_type": "code",
   "execution_count": null,
   "metadata": {},
   "outputs": [],
   "source": []
  },
  {
   "cell_type": "code",
   "execution_count": null,
   "metadata": {},
   "outputs": [],
   "source": []
  }
 ],
 "metadata": {
  "kernelspec": {
   "display_name": "Python 3",
   "language": "python",
   "name": "python3"
  },
  "language_info": {
   "codemirror_mode": {
    "name": "ipython",
    "version": 3
   },
   "file_extension": ".py",
   "mimetype": "text/x-python",
   "name": "python",
   "nbconvert_exporter": "python",
   "pygments_lexer": "ipython3",
   "version": "3.6.4"
  }
 },
 "nbformat": 4,
 "nbformat_minor": 2
}
