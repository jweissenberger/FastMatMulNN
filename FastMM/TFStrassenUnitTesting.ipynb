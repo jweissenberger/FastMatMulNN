{
 "cells": [
  {
   "cell_type": "code",
   "execution_count": 1,
   "metadata": {},
   "outputs": [
    {
     "name": "stderr",
     "output_type": "stream",
     "text": [
      "/Users/jackweissenberger/anaconda3/envs/fastMM/lib/python3.6/importlib/_bootstrap.py:219: RuntimeWarning: compiletime version 3.5 of module 'tensorflow.python.framework.fast_tensor_util' does not match runtime version 3.6\n",
      "  return f(*args, **kwds)\n"
     ]
    }
   ],
   "source": [
    "import tensorflow as tf\n",
    "import numpy as np\n",
    "from numpy import linalg as la"
   ]
  },
  {
   "cell_type": "code",
   "execution_count": 3,
   "metadata": {},
   "outputs": [],
   "source": [
    "tf.reset_default_graph()\n",
    "tf.set_random_seed(25)"
   ]
  },
  {
   "cell_type": "code",
   "execution_count": 4,
   "metadata": {},
   "outputs": [],
   "source": [
    "def strass(A, B, steps):\n",
    "  \n",
    "    #Check Dimensions\n",
    "    # tensor.get_shape().as_list()\n",
    "    (m,n) = A.get_shape().as_list()\n",
    "    (nn, p) = B.get_shape().as_list()\n",
    "\n",
    "    #old code case m, n, nn, and p as ints\n",
    "    \n",
    "    if n != nn: raise ValueError(\"incompatible dimensions\")\n",
    "    C = tf.zeros([m,p])\n",
    "    \n",
    "    #Base case\n",
    "    if steps == 0 or m ==1 or n ==1 or p == 1:\n",
    "        C = tf.matmul(A,B)\n",
    "        return C\n",
    "    \n",
    "    #Dynamic peeling\n",
    "    if m % 2 == 1:\n",
    "        #C[:m-1, :] \n",
    "        Cmat= strass(A[:m-1,:],B, steps)\n",
    "        #C[m-1,:]\n",
    "        guy = A[m-1,:]\n",
    "        \n",
    "        #delete these two\n",
    "        q= guy.get_shape()\n",
    "        print(\"(q,w):\", q)\n",
    "        \n",
    "        \n",
    "        Crow = tf.matmul(tf.expand_dims(A[m-1,:],0),B)\n",
    "        return tf.concat([Cmat, Crow], 0)\n",
    "    if n % 2 == 1:\n",
    "        Cmat = strass(A[:, :n-1], B[:n-1,:], steps)\n",
    "        C = tf.add(Cmat,  tf.matmul(tf.expand_dims(A[:,n-1],1),tf.expand_dims(B[n-1,:],0)))\n",
    "        return C\n",
    "    if p % 2 == 1:\n",
    "        #C[:, :p-1]\n",
    "        Cmat = strass(A, B[:,:p-1], steps)\n",
    "        #C[:,p-1]\n",
    "        Ccol = tf.matmul(A,tf.expand_dims(B[:,p-1],1))\n",
    "        return tf.concat([Cmat, Ccol], 1)\n",
    "    \n",
    "    # divide when m, n and p are all even\n",
    "    m2 = int(m/2)\n",
    "    n2 = int(n/2)\n",
    "    p2 = int(p/2)\n",
    "    A11 = A[:m2,:n2] \n",
    "    A12 = A[:m2,n2:]\n",
    "    A21 = A[m2:,:n2] \n",
    "    A22 = A[m2:,n2:]\n",
    "    B11 = B[:n2,:p2]   \n",
    "    B12 = B[:n2,p2:]\n",
    "    B21 = B[n2:,:p2] \n",
    "    B22 = B[n2:,p2:]\n",
    "    \n",
    "    # conquer\n",
    "    M1 = strass(A11, tf.subtract(B12,B22)   ,steps-1)\n",
    "    M2 = strass(tf.add(A11,A12), B22   ,steps-1)\n",
    "    M3 = strass(tf.add(A21,A22),B11    ,steps-1)\n",
    "    M4 = strass(A22    ,tf.subtract(B21,B11),steps-1)\n",
    "    M5 = strass(tf.add(A11, A22), tf.add(B11, B22),steps-1)\n",
    "    M6 = strass( tf.subtract(A12,A22), tf.add(B21,B22),steps-1)\n",
    "    M7 = strass(tf.subtract(A11,A21), tf.add(B11, B12),steps-1)\n",
    "    \n",
    "    # conquer    \n",
    "    #C[:m2,:p2] \n",
    "    C11 = tf.add(tf.subtract(tf.add(M5, M4), M2), M6) \n",
    "    #C[:m2,p2:]\n",
    "    C12 = tf.add(M1, M2) \n",
    "    #C[m2:,:p2] \n",
    "    C21 = tf.add(M3,M4)\n",
    "    #C[m2:,p2:]\n",
    "    C22 = tf.subtract(tf.subtract(tf.add(M1,M5), M3), M7)\n",
    "    \n",
    "    # nation building\n",
    "    C1 = tf.concat([C11, C12], 1)\n",
    "    C2 = tf.concat([C21,C22], 1)\n",
    "    C = tf.concat([C1,C2], 0)\n",
    "    \n",
    "    return C"
   ]
  },
  {
   "cell_type": "code",
   "execution_count": 5,
   "metadata": {},
   "outputs": [
    {
     "name": "stdout",
     "output_type": "stream",
     "text": [
      "(q,w): (4,)\n",
      "A: \n",
      " [[0.92  0.43  0.802 0.587]\n",
      " [0.591 0.063 0.064 0.812]\n",
      " [0.079 0.701 0.057 0.507]] \n",
      "\n",
      "matmul: \n",
      " [[0.92  0.43  0.802 0.587]\n",
      " [0.591 0.063 0.064 0.812]\n",
      " [0.079 0.701 0.057 0.507]]\n",
      "Strass: \n",
      " [[0.92  0.43  0.802 0.587]\n",
      " [0.591 0.063 0.064 0.812]\n",
      " [0.079 0.701 0.057 0.507]]\n",
      "\n",
      " m-s: \n",
      " [[1.11e-16 1.11e-16 0.00e+00 0.00e+00]\n",
      " [0.00e+00 0.00e+00 1.11e-16 1.11e-16]\n",
      " [0.00e+00 0.00e+00 0.00e+00 0.00e+00]] \n",
      "\n",
      "Strassen Error:  1.1400525616201925e-16\n"
     ]
    }
   ],
   "source": [
    "with tf.Session() as sess:\n",
    "    a = np.random.rand(3,4)\n",
    "    w = np.identity(4)\n",
    "\n",
    "    a = tf.constant(a, dtype=tf.float64)\n",
    "    w = tf.constant(w)\n",
    "    \n",
    "    m = sess.run(tf.matmul(a,w))\n",
    "    s = sess.run(strass(a,w,1))\n",
    "    \n",
    "    print(\"A: \\n\", sess.run(a), '\\n')\n",
    "    print(\"matmul: \\n\", m)\n",
    "    print(\"Strass: \\n\", s)\n",
    "    print(\"\\n m-s: \\n\", m-s, '\\n')\n",
    "    print(\"Strassen Error: \", la.norm(s-m, 'fro')/la.norm(s))\n"
   ]
  },
  {
   "cell_type": "code",
   "execution_count": 6,
   "metadata": {},
   "outputs": [
    {
     "ename": "RuntimeError",
     "evalue": "Attempted to use a closed Session.",
     "output_type": "error",
     "traceback": [
      "\u001b[0;31m---------------------------------------------------------------------------\u001b[0m",
      "\u001b[0;31mRuntimeError\u001b[0m                              Traceback (most recent call last)",
      "\u001b[0;32mcell_name\u001b[0m in \u001b[0;36masync-def-wrapper\u001b[0;34m()\u001b[0m\n",
      "\u001b[0;32m~/anaconda3/envs/fastMM/lib/python3.6/site-packages/tensorflow/python/client/session.py\u001b[0m in \u001b[0;36mrun\u001b[0;34m(self, fetches, feed_dict, options, run_metadata)\u001b[0m\n\u001b[1;32m    887\u001b[0m     \u001b[0;32mtry\u001b[0m\u001b[0;34m:\u001b[0m\u001b[0;34m\u001b[0m\u001b[0;34m\u001b[0m\u001b[0m\n\u001b[1;32m    888\u001b[0m       result = self._run(None, fetches, feed_dict, options_ptr,\n\u001b[0;32m--> 889\u001b[0;31m                          run_metadata_ptr)\n\u001b[0m\u001b[1;32m    890\u001b[0m       \u001b[0;32mif\u001b[0m \u001b[0mrun_metadata\u001b[0m\u001b[0;34m:\u001b[0m\u001b[0;34m\u001b[0m\u001b[0;34m\u001b[0m\u001b[0m\n\u001b[1;32m    891\u001b[0m         \u001b[0mproto_data\u001b[0m \u001b[0;34m=\u001b[0m \u001b[0mtf_session\u001b[0m\u001b[0;34m.\u001b[0m\u001b[0mTF_GetBuffer\u001b[0m\u001b[0;34m(\u001b[0m\u001b[0mrun_metadata_ptr\u001b[0m\u001b[0;34m)\u001b[0m\u001b[0;34m\u001b[0m\u001b[0;34m\u001b[0m\u001b[0m\n",
      "\u001b[0;32m~/anaconda3/envs/fastMM/lib/python3.6/site-packages/tensorflow/python/client/session.py\u001b[0m in \u001b[0;36m_run\u001b[0;34m(self, handle, fetches, feed_dict, options, run_metadata)\u001b[0m\n\u001b[1;32m   1045\u001b[0m     \u001b[0;31m# Check session.\u001b[0m\u001b[0;34m\u001b[0m\u001b[0;34m\u001b[0m\u001b[0;34m\u001b[0m\u001b[0m\n\u001b[1;32m   1046\u001b[0m     \u001b[0;32mif\u001b[0m \u001b[0mself\u001b[0m\u001b[0;34m.\u001b[0m\u001b[0m_closed\u001b[0m\u001b[0;34m:\u001b[0m\u001b[0;34m\u001b[0m\u001b[0;34m\u001b[0m\u001b[0m\n\u001b[0;32m-> 1047\u001b[0;31m       \u001b[0;32mraise\u001b[0m \u001b[0mRuntimeError\u001b[0m\u001b[0;34m(\u001b[0m\u001b[0;34m'Attempted to use a closed Session.'\u001b[0m\u001b[0;34m)\u001b[0m\u001b[0;34m\u001b[0m\u001b[0;34m\u001b[0m\u001b[0m\n\u001b[0m\u001b[1;32m   1048\u001b[0m     \u001b[0;32mif\u001b[0m \u001b[0mself\u001b[0m\u001b[0;34m.\u001b[0m\u001b[0mgraph\u001b[0m\u001b[0;34m.\u001b[0m\u001b[0mversion\u001b[0m \u001b[0;34m==\u001b[0m \u001b[0;36m0\u001b[0m\u001b[0;34m:\u001b[0m\u001b[0;34m\u001b[0m\u001b[0;34m\u001b[0m\u001b[0m\n\u001b[1;32m   1049\u001b[0m       raise RuntimeError('The Session graph is empty.  Add operations to the '\n",
      "\u001b[0;31mRuntimeError\u001b[0m: Attempted to use a closed Session."
     ]
    }
   ],
   "source": [
    "#with tf.Session() as sess:\n",
    "    a = np.random.rand(4,4)\n",
    "    w = np.identity(4)\n",
    "\n",
    "    a = tf.constant(a, dtype=tf.float64)\n",
    "    w = tf.constant(w)\n",
    "    \n",
    "    a = sess.run(a)\n",
    "    w = sess.run(w)\n",
    "    \n",
    "    s = strass(a,w, 2)"
   ]
  },
  {
   "cell_type": "code",
   "execution_count": 5,
   "metadata": {},
   "outputs": [
    {
     "data": {
      "text/plain": [
       "array([[0.914128  , 0.04061079, 0.37017392, 0.2666174 ],\n",
       "       [0.68150857, 0.72203561, 0.02497239, 0.55707602],\n",
       "       [0.84485791, 0.30971141, 0.5360951 , 0.19091652],\n",
       "       [0.92230492, 0.078655  , 0.69188986, 0.423988  ]])"
      ]
     },
     "execution_count": 5,
     "metadata": {},
     "output_type": "execute_result"
    }
   ],
   "source": [
    "s"
   ]
  },
  {
   "cell_type": "code",
   "execution_count": null,
   "metadata": {},
   "outputs": [],
   "source": []
  }
 ],
 "metadata": {
  "kernelspec": {
   "display_name": "Python 3",
   "language": "python",
   "name": "python3"
  },
  "language_info": {
   "codemirror_mode": {
    "name": "ipython",
    "version": 3
   },
   "file_extension": ".py",
   "mimetype": "text/x-python",
   "name": "python",
   "nbconvert_exporter": "python",
   "pygments_lexer": "ipython3",
   "version": "3.6.7"
  }
 },
 "nbformat": 4,
 "nbformat_minor": 2
}
