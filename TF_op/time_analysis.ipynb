{
 "cells": [
  {
   "cell_type": "markdown",
   "metadata": {},
   "source": [
    "# Data Analyzer"
   ]
  },
  {
   "cell_type": "code",
   "execution_count": 1,
   "metadata": {},
   "outputs": [],
   "source": [
    "import os"
   ]
  },
  {
   "cell_type": "code",
   "execution_count": 2,
   "metadata": {},
   "outputs": [],
   "source": [
    "import matplotlib\n",
    "import matplotlib.pyplot as plt\n",
    "import numpy as np\n",
    "%matplotlib inline"
   ]
  },
  {
   "cell_type": "code",
   "execution_count": 3,
   "metadata": {},
   "outputs": [],
   "source": [
    "import pandas as pd"
   ]
  },
  {
   "cell_type": "code",
   "execution_count": 4,
   "metadata": {},
   "outputs": [],
   "source": [
    "import math"
   ]
  },
  {
   "cell_type": "code",
   "execution_count": 5,
   "metadata": {},
   "outputs": [],
   "source": [
    "def calculate_Gflops(df):\n",
    "    # GFLOPS = gigaflops per second = 1e-9 * 2*n^3 / time_in_secs\n",
    "    #num_multiplies = (math.ceil((60000/df['Matrix_Size'])) * 5)\n",
    "    num_epochs = 5\n",
    "    num_training_examples = 60000\n",
    "    df['GFLOPS'] = 10**-9 * 2*df['Matrix_Size']**3 * ((num_training_examples/df['Matrix_Size']) * num_epochs) / df['Layer_2_matmul_time']\n",
    "    return df"
   ]
  },
  {
   "cell_type": "code",
   "execution_count": 6,
   "metadata": {},
   "outputs": [],
   "source": [
    "def convert_us_to_seconds(df, rows):\n",
    "    for row in rows: \n",
    "        df[row] = df[row] * 10**-6\n",
    "    \n",
    "    return df"
   ]
  },
  {
   "cell_type": "code",
   "execution_count": 7,
   "metadata": {},
   "outputs": [],
   "source": [
    "onet_df = pd.read_csv('1_thread_time.csv')"
   ]
  },
  {
   "cell_type": "code",
   "execution_count": 10,
   "metadata": {},
   "outputs": [],
   "source": [
    "onet_df = convert_us_to_seconds(onet_df, ['Layer_2_matmul_time', 'Total_fastmm_time'])"
   ]
  },
  {
   "cell_type": "code",
   "execution_count": 12,
   "metadata": {},
   "outputs": [],
   "source": [
    "onet_df = calculate_Gflops(onet_df)"
   ]
  },
  {
   "cell_type": "code",
   "execution_count": 13,
   "metadata": {},
   "outputs": [
    {
     "data": {
      "text/html": [
       "<div>\n",
       "<style scoped>\n",
       "    .dataframe tbody tr th:only-of-type {\n",
       "        vertical-align: middle;\n",
       "    }\n",
       "\n",
       "    .dataframe tbody tr th {\n",
       "        vertical-align: top;\n",
       "    }\n",
       "\n",
       "    .dataframe thead th {\n",
       "        text-align: right;\n",
       "    }\n",
       "</style>\n",
       "<table border=\"1\" class=\"dataframe\">\n",
       "  <thead>\n",
       "    <tr style=\"text-align: right;\">\n",
       "      <th></th>\n",
       "      <th>Algorithm</th>\n",
       "      <th>Matrix_Size</th>\n",
       "      <th>Layer_2_matmul_time</th>\n",
       "      <th>Total_fastmm_time</th>\n",
       "      <th>GFLOPS</th>\n",
       "    </tr>\n",
       "  </thead>\n",
       "  <tbody>\n",
       "    <tr>\n",
       "      <th>0</th>\n",
       "      <td>bini322</td>\n",
       "      <td>512</td>\n",
       "      <td>6.567596</td>\n",
       "      <td>76.923617</td>\n",
       "      <td>23.948855</td>\n",
       "    </tr>\n",
       "    <tr>\n",
       "      <th>1</th>\n",
       "      <td>schonhage333</td>\n",
       "      <td>512</td>\n",
       "      <td>6.760020</td>\n",
       "      <td>80.939220</td>\n",
       "      <td>23.267151</td>\n",
       "    </tr>\n",
       "    <tr>\n",
       "      <th>2</th>\n",
       "      <td>smirnov224</td>\n",
       "      <td>512</td>\n",
       "      <td>6.108837</td>\n",
       "      <td>71.998949</td>\n",
       "      <td>25.747355</td>\n",
       "    </tr>\n",
       "    <tr>\n",
       "      <th>3</th>\n",
       "      <td>smirnov225</td>\n",
       "      <td>512</td>\n",
       "      <td>6.599784</td>\n",
       "      <td>78.096231</td>\n",
       "      <td>23.832053</td>\n",
       "    </tr>\n",
       "    <tr>\n",
       "      <th>4</th>\n",
       "      <td>smirnov272</td>\n",
       "      <td>512</td>\n",
       "      <td>7.564467</td>\n",
       "      <td>89.544721</td>\n",
       "      <td>20.792794</td>\n",
       "    </tr>\n",
       "  </tbody>\n",
       "</table>\n",
       "</div>"
      ],
      "text/plain": [
       "      Algorithm  Matrix_Size  Layer_2_matmul_time  Total_fastmm_time  \\\n",
       "0       bini322          512             6.567596          76.923617   \n",
       "1  schonhage333          512             6.760020          80.939220   \n",
       "2    smirnov224          512             6.108837          71.998949   \n",
       "3    smirnov225          512             6.599784          78.096231   \n",
       "4    smirnov272          512             7.564467          89.544721   \n",
       "\n",
       "      GFLOPS  \n",
       "0  23.948855  \n",
       "1  23.267151  \n",
       "2  25.747355  \n",
       "3  23.832053  \n",
       "4  20.792794  "
      ]
     },
     "execution_count": 13,
     "metadata": {},
     "output_type": "execute_result"
    }
   ],
   "source": [
    "onet_df.head()"
   ]
  },
  {
   "cell_type": "code",
   "execution_count": 14,
   "metadata": {},
   "outputs": [],
   "source": [
    "manyt_df = pd.read_csv('12_threads_time.csv')"
   ]
  },
  {
   "cell_type": "code",
   "execution_count": 15,
   "metadata": {},
   "outputs": [],
   "source": [
    "manyt_df = convert_us_to_seconds(manyt_df, ['Layer_2_matmul_time', 'Total_fastmm_time'])"
   ]
  },
  {
   "cell_type": "code",
   "execution_count": 16,
   "metadata": {},
   "outputs": [],
   "source": [
    "manyt_df = calculate_Gflops(manyt_df)"
   ]
  },
  {
   "cell_type": "code",
   "execution_count": 17,
   "metadata": {},
   "outputs": [
    {
     "data": {
      "text/html": [
       "<div>\n",
       "<style scoped>\n",
       "    .dataframe tbody tr th:only-of-type {\n",
       "        vertical-align: middle;\n",
       "    }\n",
       "\n",
       "    .dataframe tbody tr th {\n",
       "        vertical-align: top;\n",
       "    }\n",
       "\n",
       "    .dataframe thead th {\n",
       "        text-align: right;\n",
       "    }\n",
       "</style>\n",
       "<table border=\"1\" class=\"dataframe\">\n",
       "  <thead>\n",
       "    <tr style=\"text-align: right;\">\n",
       "      <th></th>\n",
       "      <th>Algorithm</th>\n",
       "      <th>Matrix_Size</th>\n",
       "      <th>Layer_2_matmul_time</th>\n",
       "      <th>Total_fastmm_time</th>\n",
       "      <th>GFLOPS</th>\n",
       "    </tr>\n",
       "  </thead>\n",
       "  <tbody>\n",
       "    <tr>\n",
       "      <th>0</th>\n",
       "      <td>bini322</td>\n",
       "      <td>512</td>\n",
       "      <td>3.222561</td>\n",
       "      <td>37.101161</td>\n",
       "      <td>48.807895</td>\n",
       "    </tr>\n",
       "    <tr>\n",
       "      <th>1</th>\n",
       "      <td>schonhage333</td>\n",
       "      <td>512</td>\n",
       "      <td>3.332613</td>\n",
       "      <td>38.848759</td>\n",
       "      <td>47.196114</td>\n",
       "    </tr>\n",
       "    <tr>\n",
       "      <th>2</th>\n",
       "      <td>smirnov224</td>\n",
       "      <td>512</td>\n",
       "      <td>1.610752</td>\n",
       "      <td>17.288289</td>\n",
       "      <td>97.647832</td>\n",
       "    </tr>\n",
       "    <tr>\n",
       "      <th>3</th>\n",
       "      <td>smirnov225</td>\n",
       "      <td>512</td>\n",
       "      <td>2.151513</td>\n",
       "      <td>24.851678</td>\n",
       "      <td>73.105017</td>\n",
       "    </tr>\n",
       "    <tr>\n",
       "      <th>4</th>\n",
       "      <td>smirnov272</td>\n",
       "      <td>512</td>\n",
       "      <td>2.664725</td>\n",
       "      <td>30.296895</td>\n",
       "      <td>59.025380</td>\n",
       "    </tr>\n",
       "  </tbody>\n",
       "</table>\n",
       "</div>"
      ],
      "text/plain": [
       "      Algorithm  Matrix_Size  Layer_2_matmul_time  Total_fastmm_time  \\\n",
       "0       bini322          512             3.222561          37.101161   \n",
       "1  schonhage333          512             3.332613          38.848759   \n",
       "2    smirnov224          512             1.610752          17.288289   \n",
       "3    smirnov225          512             2.151513          24.851678   \n",
       "4    smirnov272          512             2.664725          30.296895   \n",
       "\n",
       "      GFLOPS  \n",
       "0  48.807895  \n",
       "1  47.196114  \n",
       "2  97.647832  \n",
       "3  73.105017  \n",
       "4  59.025380  "
      ]
     },
     "execution_count": 17,
     "metadata": {},
     "output_type": "execute_result"
    }
   ],
   "source": [
    "manyt_df.head()"
   ]
  },
  {
   "cell_type": "code",
   "execution_count": 18,
   "metadata": {},
   "outputs": [],
   "source": [
    "# fastest algorithm at each size\n",
    "def fastest_algo(df):\n",
    "    matrix_sizes = [512, 1024, 2048, 4096, 8192]\n",
    "    rows = []\n",
    "    for size in matrix_sizes: \n",
    "        time = df[df['Matrix_Size'] == size]['Total_fastmm_time'].min()\n",
    "        algo = df[df['Total_fastmm_time'] == time]['Algorithm'].iloc[0]\n",
    "        if algo == 'dgemm':\n",
    "            dgemm_speed_up = 'N/A'\n",
    "        else:\n",
    "            dgemm_time = df[(df['Matrix_Size'] == size) & (df['Algorithm'] == 'dgemm')]['Total_fastmm_time'].iloc[0]\n",
    "            dgemm_speed_up = dgemm_time/ time\n",
    "            \n",
    "        rows.append({'Size':size, 'Fastest Algorithm': algo, 'dgemm speed up':dgemm_speed_up})\n",
    "    \n",
    "    print(pd.DataFrame(rows))"
   ]
  },
  {
   "cell_type": "code",
   "execution_count": 20,
   "metadata": {},
   "outputs": [],
   "source": [
    "# fastest one thread algorithms\n",
    "fastest_algo(onet_df)"
   ]
  },
  {
   "cell_type": "code",
   "execution_count": null,
   "metadata": {},
   "outputs": [],
   "source": [
    "# fastest all thread algorithms\n",
    "fastest_algo(manyt_df)"
   ]
  },
  {
   "cell_type": "code",
   "execution_count": 21,
   "metadata": {},
   "outputs": [],
   "source": [
    "def parallel_speedup(one_thread_df, all_thread_df, algorithm):\n",
    "    matrix_sizes = [512, 1024, 2048, 4096, 8192]\n",
    "    one_thread_times = []\n",
    "    all_thread_times = []\n",
    "    \n",
    "    for size in matrix_sizes:\n",
    "        one_thread_time = one_thread_df[(one_thread_df['Matrix_Size'] == size) & (one_thread_df['Algorithm'] == algorithm)]['Total_fastmm_time'].iloc[0]\n",
    "        all_thread_time = all_thread_df[(all_thread_df['Matrix_Size'] == size) & (all_thread_df['Algorithm'] == algorithm)]['Total_fastmm_time'].iloc[0]\n",
    "        print(f'Size: {size},      Parallel speed up: {one_thread_time/all_thread_time}')\n",
    "    \n",
    "    \n",
    "    "
   ]
  },
  {
   "cell_type": "code",
   "execution_count": 22,
   "metadata": {},
   "outputs": [
    {
     "name": "stdout",
     "output_type": "stream",
     "text": [
      "Size: 512,      Parallel speed up: 2.7581334273140135\n",
      "Size: 1024,      Parallel speed up: 4.495907981947013\n",
      "Size: 2048,      Parallel speed up: 5.096510564904463\n",
      "Size: 4096,      Parallel speed up: 7.329559538539906\n",
      "Size: 8192,      Parallel speed up: 8.608614643301058\n"
     ]
    }
   ],
   "source": [
    "parallel_speedup(onet_df, manyt_df, 'smirnov444')"
   ]
  },
  {
   "cell_type": "code",
   "execution_count": 23,
   "metadata": {},
   "outputs": [
    {
     "name": "stdout",
     "output_type": "stream",
     "text": [
      "Size: 512,      Parallel speed up: 4.4497622420546525\n",
      "Size: 1024,      Parallel speed up: 5.299505309743871\n",
      "Size: 2048,      Parallel speed up: 5.158816844513425\n",
      "Size: 4096,      Parallel speed up: 8.685848874130242\n",
      "Size: 8192,      Parallel speed up: 10.514258421082426\n"
     ]
    }
   ],
   "source": [
    "parallel_speedup(onet_df, manyt_df, 'smirnov442')"
   ]
  },
  {
   "cell_type": "code",
   "execution_count": 24,
   "metadata": {},
   "outputs": [
    {
     "name": "stdout",
     "output_type": "stream",
     "text": [
      "Size: 512,      Parallel speed up: 2.0733479928694423\n",
      "Size: 1024,      Parallel speed up: 4.167967321233155\n",
      "Size: 2048,      Parallel speed up: 3.6078254508200196\n",
      "Size: 4096,      Parallel speed up: 6.796307954054155\n",
      "Size: 8192,      Parallel speed up: 6.34959507021419\n"
     ]
    }
   ],
   "source": [
    "parallel_speedup(onet_df, manyt_df, 'bini322')"
   ]
  },
  {
   "cell_type": "code",
   "execution_count": null,
   "metadata": {},
   "outputs": [],
   "source": [
    "def time_plotter(algorithm, df):\n",
    "    dgemm_times = []\n",
    "    algorithm_times = []\n",
    "    \n",
    "    matrix_sizes = [512, 1024, 2048, 4096, 8192]\n",
    "    for size in matrix_sizes:\n",
    "        dgemm_times.append(df[(df['Matrix_Size'] == size) & (df['Algorithm'] == 'dgemm')]['GFLOPS'].iloc[0])\n",
    "        algorithm_times.append(df[(df['Matrix_Size'] == size) & (df['Algorithm'] == algorithm)]['GFLOPS'].iloc[0])\n",
    "    \n",
    "\n",
    "    x = np.arange(len(matrix_sizes))\n",
    "    width = 0.2\n",
    "\n",
    "    plt.rcParams['figure.figsize'] = [15, 6]\n",
    "\n",
    "    fig, ax = plt.subplots()\n",
    "    rects1 = ax.bar(x - width/2, dgemm_times, width, label='dgemm')\n",
    "    rects2 = ax.bar(x + width/2, algorithm_times, width, label=algorithm)\n",
    "\n",
    "    ax.set_ylabel('GFLOPS')\n",
    "    ax.set_xlabel('Matrix size')\n",
    "    ax.set_title(f'{algorithm} time vs dgemm time')\n",
    "    ax.set_xticks(x)\n",
    "    ax.set_xticklabels(matrix_sizes)\n",
    "    ax.legend()\n",
    "\n",
    "    def autolabel(rects):\n",
    "        \"\"\"Attach a text label above each bar in *rects*, displaying its height.\"\"\"\n",
    "        for rect in rects:\n",
    "            height = rect.get_height()\n",
    "            ax.annotate('{}'.format(height),\n",
    "                        xy=(rect.get_x() + rect.get_width() / 2, height),\n",
    "                        xytext=(0, 3),  # 3 points vertical offset\n",
    "                        textcoords=\"offset points\",\n",
    "                        ha='center', va='bottom')\n",
    "\n",
    "\n",
    "    autolabel(rects1)\n",
    "    autolabel(rects2)\n",
    "\n",
    "    fig.tight_layout()\n",
    "\n",
    "\n",
    "    plt.show()"
   ]
  },
  {
   "cell_type": "markdown",
   "metadata": {},
   "source": [
    "## Fastest One Thread Algorithms vs dgemm (classic matmul)"
   ]
  },
  {
   "cell_type": "code",
   "execution_count": null,
   "metadata": {},
   "outputs": [],
   "source": [
    "time_plotter(algorithm='smirnov444', df=onet_df)"
   ]
  },
  {
   "cell_type": "markdown",
   "metadata": {},
   "source": [
    "The average epoch time goes down as the batch size gets larger because less multiplications are being done"
   ]
  },
  {
   "cell_type": "code",
   "execution_count": null,
   "metadata": {},
   "outputs": [],
   "source": [
    "time_plotter(algorithm='smirnov442', df=onet_df)"
   ]
  },
  {
   "cell_type": "markdown",
   "metadata": {},
   "source": [
    "## All Thread times"
   ]
  },
  {
   "cell_type": "code",
   "execution_count": null,
   "metadata": {},
   "outputs": [],
   "source": [
    "time_plotter(algorithm='smirnov444', df=manyt_df)"
   ]
  },
  {
   "cell_type": "code",
   "execution_count": null,
   "metadata": {},
   "outputs": [],
   "source": [
    "time_plotter(algorithm='smirnov442', df=manyt_df)"
   ]
  },
  {
   "cell_type": "code",
   "execution_count": null,
   "metadata": {},
   "outputs": [],
   "source": []
  }
 ],
 "metadata": {
  "kernelspec": {
   "display_name": "Python 3",
   "language": "python",
   "name": "python3"
  },
  "language_info": {
   "codemirror_mode": {
    "name": "ipython",
    "version": 3
   },
   "file_extension": ".py",
   "mimetype": "text/x-python",
   "name": "python",
   "nbconvert_exporter": "python",
   "pygments_lexer": "ipython3",
   "version": "3.7.5"
  }
 },
 "nbformat": 4,
 "nbformat_minor": 4
}
